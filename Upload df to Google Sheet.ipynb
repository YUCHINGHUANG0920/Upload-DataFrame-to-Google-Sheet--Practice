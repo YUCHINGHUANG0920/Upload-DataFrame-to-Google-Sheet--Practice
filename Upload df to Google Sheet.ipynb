{
 "cells": [
  {
   "cell_type": "markdown",
   "id": "c6effe51",
   "metadata": {},
   "source": [
    "### Install necessary packages"
   ]
  },
  {
   "cell_type": "code",
   "execution_count": 1,
   "id": "d815a3e6",
   "metadata": {},
   "outputs": [],
   "source": [
    "# for web scraping\n",
    "import requests\n",
    "from bs4 import BeautifulSoup\n",
    "import re\n",
    "from ckip_transformers.nlp import CkipWordSegmenter, CkipPosTagger, CkipNerChunker\n",
    "import pandas as pd\n",
    "import matplotlib.pyplot as plt\n",
    "import numpy as np"
   ]
  },
  {
   "cell_type": "code",
   "execution_count": 2,
   "id": "2e023e85",
   "metadata": {},
   "outputs": [],
   "source": [
    "# for cleaning the list of key words\n",
    "def clean(sentence_ws, sentence_pos):\n",
    "    short_with_pos = []\n",
    "    short_sentence = []\n",
    "    \n",
    "    # stop_pos means these categories are excluded\n",
    "    stop_pos = set(['Nep', 'Nh', 'Nb', 'Neu', 'Nc', 'Ncd', 'Nd', 'Neqa'])\n",
    "    for word_ws, word_pos in zip(sentence_ws, sentence_pos):\n",
    "        # only keep N & V\n",
    "        is_N_or_V = word_pos.startswith(\"V\") or word_pos.startswith(\"N\")\n",
    "        # delete words in stop_pos\n",
    "        is_not_stop_pos = word_pos not in stop_pos\n",
    "        # delete only one word\n",
    "        is_not_one_charactor = not (len(word_ws) == 1)\n",
    "        \n",
    "        if is_N_or_V and is_not_stop_pos and is_not_one_charactor:\n",
    "            short_with_pos.append(f\"{word_ws}({word_pos})\")\n",
    "            short_sentence.append(f\"{word_ws}\")\n",
    "    return (\" \".join(short_sentence), \" \".join(short_with_pos))"
   ]
  },
  {
   "cell_type": "markdown",
   "id": "8994b8ae",
   "metadata": {},
   "source": [
    "### Set the target url and Scrape the text (using CKIP)"
   ]
  },
  {
   "cell_type": "code",
   "execution_count": 3,
   "id": "77bb9c3c",
   "metadata": {},
   "outputs": [
    {
     "name": "stderr",
     "output_type": "stream",
     "text": [
      "/var/folders/yn/9m3hplhn2yl19kgthcj7z46m0000gn/T/ipykernel_76918/1716522268.py:5: DeprecationWarning: The 'text' argument to find()-type methods is deprecated. Use 'string' instead.\n",
      "  raw_texts = ' '.join(soup.findAll(text=True))\n"
     ]
    }
   ],
   "source": [
    "url = \"https://www.mj-hair.com/news_info/14/1/130\"\n",
    "headers = {\"User-Agent\": \"Mozilla/5.0\"}\n",
    "response = requests.get(url, headers=headers)\n",
    "soup = BeautifulSoup(response.text, 'lxml')\n",
    "raw_texts = ' '.join(soup.findAll(text=True))\n",
    "pattern = re.compile(r\"[\\u4e00-\\u9fff！？。，、]+\")\n",
    "text = [' '.join(re.findall(pattern, raw_texts))]\n",
    "text = [text[0].replace(\" \", \"\")]"
   ]
  },
  {
   "cell_type": "code",
   "execution_count": 4,
   "id": "9319c4ec",
   "metadata": {},
   "outputs": [
    {
     "data": {
      "text/plain": [
       "['植髮價格如何計算？個影響植髮費用關鍵因素、價錢差異大公開明錦生髮植髮診所自訂洽詢據點埋碼加諮詢埋碼繁體中文简体中文關於明錦品牌介紹醫療團隊服務據點明錦集團明錦醫美知識分享植髮自然生髮生髮知識與保養醫療新知診所動態新聞動態時事影音專區生髮與植髮自然生髮美學植髮生髮案例自然生髮美學植髮前後比對常見問題聯絡我們聯絡我們聯絡我們立即諮詢常見問題關於明錦品牌介紹醫療團隊服務據點明錦集團明錦醫美知識分享植髮自然生髮生髮知識與保養醫療新知診所動態新聞動態時事影音專區生髮與植髮自然生髮美學植髮生髮案例自然生髮美學植髮前後比對常見問題聯絡我們聯絡我們聯絡我們立即諮詢常見問題用用首頁植髮植髮價格如何計算？個影響植髮費用關鍵因素、價錢差異大公開植髮價格如何計算？個影響植髮費用關鍵因素、價錢差異大公開植髮植髮費用大約是多少？價格是怎麼計算的？坊間經常聽到頭髮是人的第二張臉此說法，可見頭髮對於人的形象之重要性。但遺傳、工作、家庭等各種壓力，讓許多人都出現掉髮問題，而如果改變生活作息與飲食後仍不見效果，有些人就會想選擇植髮，但卻又擔心無法負擔植髮價格。究竟各類型的植髮費用有何差異？跟著本文，帶你全面了解影響植髮價錢的重要因素！植髮費用如何計算？價格計算方式解析依據取髮、種髮等不同方式，每根頭髮價格約落在元不等，主要是手術方式的選擇、個人頭皮的鑽取難度不同、頭皮與原有頭髮條件不同，甚至是使用的手術耗材是否使用拋棄式的植髮筆等等因素，都會影響植髮手術費用的計算。而目前兩種主流的計費方式，分別是以根數收費，或是以株數計算。計價方式說明以根計價以單根頭髮為收費單位，依照實際需植入的髮根數量，計算植髮手術費用以株計價以單株毛囊為收費單位，每個毛囊單位不一定只會有根頭髮，有時會出現根甚至多到根的情況東方人每株毛囊平均含有根頭髮影響植髮價錢大因素一般來說，植髮價格高低與以下點有關植髮手術進行方式植髮手術方式又分為、及植髮機器人，其各自的差異比較如下植髮機器人取髮方式切取帶有毛囊的細長頭皮，分離出毛囊株以鑽取器取下後枕部毛囊株由機械手臂摘取毛囊時間成本較快耗時耗時價格比較低中高機械折舊、開機費用適合族群有預算考量後枕部不想剃髮可接受較長恢復期可接受取髮位置留下長條狀疤痕頭皮彈性不佳蟹足腫體質植眉手術植鬍手術喜歡剃短髮型頭皮彈性不佳蟹足腫體質植眉手術植鬍手術喜歡剃短髮型而除了取頭髮使用的工具不同以外，醫療人員種植頭髮時使用的方式不一樣，對於頭髮毛囊的損耗狀況、存活率，及種植術後生長出來的頭髮美感、自然度都有很大的落差。延伸閱讀植髮手術全攻略揭密植髮優缺點、原理與、比較例如韓式植髮與美式植髮，早期的種植頭髮方法都是打洞後，用鑷子夾著將毛囊塞入頭皮，統稱為美式植髮而韓式植髮由韓國發展出來，種植時使用韓式植髮筆直接將毛囊送達到適合生長的皮膚位置，稱作韓式植髮。移植的頭髮數量落髮區域越大，密度需求越高，需要移植的頭髮數量也就越多，植髮價格也會跟著提高。且如上述說明，不同的取髮及種髮方式，對價格也有很大的影響。植髮手術執行人員手術從一開始的取髮到種植，是不是全程由醫師親自執行，也是影響植髮價格的重要因素。舉例來說韓式植髮是在操作時由醫師本人使用植髮筆種植毛囊，即可盡可能地將頭髮折損及消耗狀況降低。美式植髮種植則是由多位技術人員，同時使用毛囊夾將毛囊填塞到種植區，或許會縮短手術時間，但毛流方向難以精準控制，對髮線自然度影響極大。故通常相較之下，全程由醫師親自把控、執行的韓式植髮價格會略高。醫療團隊的技術植髮醫師及醫療團隊的手術經驗與技巧，也是影響植髮費用的核心因素。選擇專業優良的醫療團隊，才將能為你帶來安全、安心且服務品質良好的植髮經驗。如何預估植髮價格？植入髮量計算公式教你看那麼該如何預估自己的植髮手術費用範圍呢？植髮術前諮詢時，醫師通常會根據髮友的落髮面積需求密度來評估需要植入的頭髮數量。一般人的密度至少要每平方公分株約根，而市面上的植髮價格從一毛囊元都有可能。若想提前自行推估所需的植髮費用，可參考以下各種禿頭類型及其所推薦的植髮數量，幫助你大致了解植髮價格範圍雄性禿掉髮階段推薦植髮數量期根期根期根期以上根以上需注意，以上推薦植髮根數僅為粗估，實際狀況仍需視個人情況與專業醫師評估而定。植髮費用行情大公開從上述說明可知，植髮費用價格的計費方式有很多種，依照根數、植髮手術的選擇、、植髮機器人與密度、種植範圍等原因都會影響植髮最終價格。因此，以下我們也為你整理出了各式植髮手術方式的大約費用範圍以供參考，但實際的手術費用仍需視個人情況與各醫療院所而異。下表費用單位新臺幣取髮種髮方式每根價格每株價格一株約根取髮韓式植髮元有開機費元有開機費取髮美式植髮元有開機費元有開機費取髮韓式植髮元元取髮美式植髮元元取髮韓式植髮元元取髮美式植髮元元而明錦生髮植髮收費採以株計費，每株價格約元，株根頭髮株元根約元，價格公開透明，不僅在植髮過程中有計算器記錄植髮根數，髮友更能清楚知道總共花了多少費用在植髮。由此可知，影響植髮價格的因素有許多，故選擇合適的植髮手術方式與優質的醫療院所是你控制植髮預算的方式之一。而明錦診所即提供公開透明的計價方式，且擁有專業的醫療團隊，讓你可放心地將髮絲困擾交給我們！故若你也有植髮手術費用的相關疑問，歡迎立即與我們聯繫諮詢，將有專人為你提供詳細說明。分享文章消息分類全部分類植髮自然生髮生髮知識與保養醫療新知診所動態新聞動態時事最新文章韓式植髮美式植髮差在哪？大原理比較，帶你掌握植髮優缺點禿頭怎麼辦？分析禿頭各類型原因大前兆，了解如何預防與治療生髮帽是什麼？低能量頭皮雷射運作原理、適用族群大哉問品牌介紹知識分享醫療團隊聯絡我們服務據點常見問題生髮與植髮生髮案例明錦生髮植髮診所免責申明見證者分享內容已經當事人同意，明錦生髮植髮診所版權所有，請勿擅自擷取盜用。任何醫療處置均有其風險，成效因人而異，就診時請與醫師審慎評估溝通。立即來電立即預約諮詢立即預約諮詢加入官方帳號鎖右鍵聯絡我們表單鎖右鍵']"
      ]
     },
     "execution_count": 4,
     "metadata": {},
     "output_type": "execute_result"
    }
   ],
   "source": [
    "text"
   ]
  },
  {
   "cell_type": "code",
   "execution_count": 5,
   "id": "41a4273d",
   "metadata": {},
   "outputs": [],
   "source": [
    "# set CKIP Drivers\n",
    "ws_driver  = CkipWordSegmenter(model=\"bert-base\")\n",
    "pos_driver = CkipPosTagger(model=\"bert-base\")\n",
    "ner_driver = CkipNerChunker(model=\"bert-base\")"
   ]
  },
  {
   "cell_type": "code",
   "execution_count": 6,
   "id": "f2b33272",
   "metadata": {},
   "outputs": [
    {
     "name": "stderr",
     "output_type": "stream",
     "text": [
      "Tokenization: 100%|██████████████████████████████| 1/1 [00:00<00:00, 406.35it/s]\n",
      "Inference: 100%|██████████████████████████████████| 1/1 [00:01<00:00,  1.85s/it]\n",
      "Tokenization: 100%|██████████████████████████████| 1/1 [00:00<00:00, 817.60it/s]\n",
      "Inference: 100%|██████████████████████████████████| 1/1 [00:13<00:00, 13.43s/it]\n",
      "Tokenization: 100%|█████████████████████████████| 1/1 [00:00<00:00, 1040.51it/s]\n",
      "Inference: 100%|██████████████████████████████████| 1/1 [00:01<00:00,  1.37s/it]\n"
     ]
    }
   ],
   "source": [
    "# apply CKIP\n",
    "ws  = ws_driver(text)\n",
    "pos = pos_driver(ws)\n",
    "ner = ner_driver(text)"
   ]
  },
  {
   "cell_type": "code",
   "execution_count": 7,
   "id": "433356f9",
   "metadata": {},
   "outputs": [],
   "source": [
    "keyword_list = []\n",
    "for sentence, sentence_ws, sentence_pos, sentence_ner in zip(text, ws, pos, ner):\n",
    "    (short, res) = clean(sentence_ws, sentence_pos)\n",
    "    keyword_list.extend(short.split(' '))"
   ]
  },
  {
   "cell_type": "code",
   "execution_count": 8,
   "id": "99b59ba7",
   "metadata": {},
   "outputs": [],
   "source": [
    "# count key words in the whole 'keyword_list'\n",
    "value_counts = pd.Series(keyword_list).value_counts()\n",
    "df = pd.DataFrame({'Word': value_counts.index, 'Count': value_counts.values})\n",
    "sub_df = df.sort_values(by=['Count'], ascending=False).reset_index(drop=True).head(100)"
   ]
  },
  {
   "cell_type": "code",
   "execution_count": null,
   "id": "705ea2a2",
   "metadata": {},
   "outputs": [],
   "source": []
  },
  {
   "cell_type": "markdown",
   "id": "6dbce745",
   "metadata": {},
   "source": [
    "### Upload the dataframe to Google Sheet"
   ]
  },
  {
   "cell_type": "code",
   "execution_count": 9,
   "id": "c408ccb0",
   "metadata": {},
   "outputs": [],
   "source": [
    "import gspread\n",
    "from google.oauth2.service_account import Credentials\n",
    "from gspread_dataframe import get_as_dataframe, set_with_dataframe"
   ]
  },
  {
   "cell_type": "code",
   "execution_count": null,
   "id": "3de5adbb",
   "metadata": {},
   "outputs": [],
   "source": [
    "# google sheet authorization\n",
    "scopes = ['https://www.googleapis.com/auth/spreadsheets','https://www.googleapis.com/auth/drive']\n",
    "\n",
    "# set your api key (json file) as the credential\n",
    "credentials = Credentials.from_service_account_file('YourJsonFile.json',scopes=scopes)\n",
    "\n",
    "gc = gspread.authorize(credentials)\n",
    "\n",
    "# get the google sheet id from the url of the google sheet\n",
    "spreadsheet_key = 'YourGoogleSheetID'\n",
    "\n",
    "# use the key and id to open a sheet in the google sheet\n",
    "sheet = gc.open_by_key(spreadsheet_key).worksheet(\"TheSheetName\")\n",
    "\n",
    "existing_df = get_as_dataframe(sheet,skiprows=0, skipcolumns=0)\n",
    "existing_df = existing_df.dropna(axis=0, how='all')\n",
    "existing_df = existing_df.dropna(axis=1, how='all')\n",
    "\n",
    "if existing_df is not None:\n",
    "    new_df = pd.concat([sub_df, existing_df], axis=1)\n",
    "else:\n",
    "    new_df = sub_df\n",
    "\n",
    "# upload df to the google sheet\n",
    "set_with_dataframe(sheet, new_df)"
   ]
  },
  {
   "cell_type": "code",
   "execution_count": null,
   "id": "91e5aba2",
   "metadata": {},
   "outputs": [],
   "source": []
  },
  {
   "cell_type": "code",
   "execution_count": null,
   "id": "56ee9b78",
   "metadata": {},
   "outputs": [],
   "source": []
  },
  {
   "cell_type": "code",
   "execution_count": null,
   "id": "d5b8876a",
   "metadata": {},
   "outputs": [],
   "source": []
  }
 ],
 "metadata": {
  "kernelspec": {
   "display_name": "Python 3 (ipykernel)",
   "language": "python",
   "name": "python3"
  },
  "language_info": {
   "codemirror_mode": {
    "name": "ipython",
    "version": 3
   },
   "file_extension": ".py",
   "mimetype": "text/x-python",
   "name": "python",
   "nbconvert_exporter": "python",
   "pygments_lexer": "ipython3",
   "version": "3.11.4"
  }
 },
 "nbformat": 4,
 "nbformat_minor": 5
}
