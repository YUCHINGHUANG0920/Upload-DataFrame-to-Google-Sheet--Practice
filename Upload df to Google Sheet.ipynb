{
 "cells": [
  {
   "cell_type": "markdown",
   "id": "c6effe51",
   "metadata": {},
   "source": [
    "### Install necessary packages"
   ]
  },
  {
   "cell_type": "code",
   "execution_count": null,
   "id": "d815a3e6",
   "metadata": {},
   "outputs": [],
   "source": [
    "# for web scraping\n",
    "import requests\n",
    "from bs4 import BeautifulSoup\n",
    "import re\n",
    "from ckip_transformers.nlp import CkipWordSegmenter, CkipPosTagger, CkipNerChunker\n",
    "import pandas as pd"
   ]
  },
  {
   "cell_type": "code",
   "execution_count": null,
   "id": "2e023e85",
   "metadata": {},
   "outputs": [],
   "source": [
    "# for cleaning the list of key words\n",
    "def clean(sentence_ws, sentence_pos):\n",
    "    short_with_pos = []\n",
    "    short_sentence = []\n",
    "    \n",
    "    # stop_pos means these categories are excluded\n",
    "    stop_pos = set(['Nep', 'Nh', 'Nb', 'Neu', 'Nc', 'Nd'])\n",
    "    \n",
    "    for word_ws, word_pos in zip(sentence_ws, sentence_pos):\n",
    "        # only keep N & V\n",
    "        is_N_or_V = word_pos.startswith(\"V\") or word_pos.startswith(\"N\")\n",
    "        # delete words in stop_pos\n",
    "        is_not_stop_pos = word_pos not in stop_pos\n",
    "        # delete only one word\n",
    "        is_not_one_charactor = not (len(word_ws) == 1)\n",
    "        \n",
    "        if is_N_or_V and is_not_stop_pos and is_not_one_charactor:\n",
    "            short_with_pos.append(f\"{word_ws}({word_pos})\")\n",
    "            short_sentence.append(f\"{word_ws}\")\n",
    "    return (\" \".join(short_sentence), \" \".join(short_with_pos))"
   ]
  },
  {
   "cell_type": "markdown",
   "id": "8994b8ae",
   "metadata": {},
   "source": [
    "### Set the target url and Scrape the text (using CKIP)"
   ]
  },
  {
   "cell_type": "code",
   "execution_count": null,
   "id": "77bb9c3c",
   "metadata": {},
   "outputs": [],
   "source": [
    "url = \"https://www.mbishop.com.tw/Article/Detail/79781\"\n",
    "headers = {\"User-Agent\": \"Mozilla/5.0\"}\n",
    "response = requests.get(url, headers=headers)\n",
    "soup = BeautifulSoup(response.text, 'lxml')\n",
    "\n",
    "pattern = re.compile(r\"[\\u4e00-\\u9fff！？。，、]+\")\n",
    "raw_text = re.findall(pattern, soup.find_all(\"script\")[25].get_text())\n",
    "text = [\"，\".join([s for s in raw_text if s not in [\"微軟正黑體\"]])]"
   ]
  },
  {
   "cell_type": "code",
   "execution_count": null,
   "id": "41a4273d",
   "metadata": {},
   "outputs": [],
   "source": [
    "# set CKIP Drivers\n",
    "ws_driver  = CkipWordSegmenter(model=\"albert-base\")\n",
    "pos_driver = CkipPosTagger(model=\"albert-base\")\n",
    "ner_driver = CkipNerChunker(model=\"albert-base\")"
   ]
  },
  {
   "cell_type": "code",
   "execution_count": null,
   "id": "f2b33272",
   "metadata": {},
   "outputs": [],
   "source": [
    "# apply CKIP\n",
    "ws  = ws_driver(text)\n",
    "pos = pos_driver(ws)\n",
    "ner = ner_driver(text)"
   ]
  },
  {
   "cell_type": "code",
   "execution_count": null,
   "id": "433356f9",
   "metadata": {},
   "outputs": [],
   "source": [
    "keyword_list = []\n",
    "for sentence, sentence_ws, sentence_pos, sentence_ner in zip(text, ws, pos, ner):\n",
    "    (short, res) = clean(sentence_ws, sentence_pos)\n",
    "    keyword_list.extend(short.split(' '))"
   ]
  },
  {
   "cell_type": "code",
   "execution_count": null,
   "id": "99b59ba7",
   "metadata": {},
   "outputs": [],
   "source": [
    "# count key words in the whole 'keyword_list'\n",
    "value_counts = pd.Series(keyword_list).value_counts()\n",
    "df = pd.DataFrame({'Word': value_counts.index, 'Count': value_counts.values})\n",
    "sub_df = df.sort_values(by=['Count'], ascending=False).reset_index(drop=True).head(100)"
   ]
  },
  {
   "cell_type": "code",
   "execution_count": null,
   "id": "705ea2a2",
   "metadata": {},
   "outputs": [],
   "source": []
  },
  {
   "cell_type": "markdown",
   "id": "6dbce745",
   "metadata": {},
   "source": [
    "### Upload the dataframe to Google Sheet"
   ]
  },
  {
   "cell_type": "code",
   "execution_count": null,
   "id": "c408ccb0",
   "metadata": {},
   "outputs": [],
   "source": [
    "import gspread\n",
    "from google.oauth2.service_account import Credentials\n",
    "from gspread_dataframe import set_with_dataframe"
   ]
  },
  {
   "cell_type": "code",
   "execution_count": null,
   "id": "0360e75c",
   "metadata": {},
   "outputs": [],
   "source": [
    "# google sheet authorization\n",
    "scopes = ['https://www.googleapis.com/auth/spreadsheets','https://www.googleapis.com/auth/drive']\n",
    "\n",
    "# set your api key (json file) as the credential\n",
    "credentials = Credentials.from_service_account_file('YourJsonFile.json',scopes=scopes)\n",
    "\n",
    "gc = gspread.authorize(credentials)\n",
    "\n",
    "# get the google sheet id from the url of the google sheet\n",
    "spreadsheet_key = 'YourGoogleSheetID'\n",
    "\n",
    "# use the key and id to open a sheet in the google sheet\n",
    "sheet = gc.open_by_key(spreadsheet_key).worksheet(\"TheSheetName\")\n",
    "\n",
    "# upload df to the google sheet\n",
    "set_with_dataframe(sheet, sub_df)"
   ]
  },
  {
   "cell_type": "code",
   "execution_count": null,
   "id": "91e5aba2",
   "metadata": {},
   "outputs": [],
   "source": []
  },
  {
   "cell_type": "code",
   "execution_count": null,
   "id": "56ee9b78",
   "metadata": {},
   "outputs": [],
   "source": []
  },
  {
   "cell_type": "code",
   "execution_count": null,
   "id": "d5b8876a",
   "metadata": {},
   "outputs": [],
   "source": []
  },
  {
   "cell_type": "code",
   "execution_count": null,
   "id": "5d336b5f",
   "metadata": {},
   "outputs": [],
   "source": []
  }
 ],
 "metadata": {
  "kernelspec": {
   "display_name": "Python 3 (ipykernel)",
   "language": "python",
   "name": "python3"
  },
  "language_info": {
   "codemirror_mode": {
    "name": "ipython",
    "version": 3
   },
   "file_extension": ".py",
   "mimetype": "text/x-python",
   "name": "python",
   "nbconvert_exporter": "python",
   "pygments_lexer": "ipython3",
   "version": "3.11.4"
  }
 },
 "nbformat": 4,
 "nbformat_minor": 5
}
